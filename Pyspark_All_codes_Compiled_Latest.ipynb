{
  "nbformat": 4,
  "nbformat_minor": 0,
  "metadata": {
    "colab": {
      "name": "Pyspark-All codes_Compiled.ipynb",
      "provenance": [],
      "collapsed_sections": [],
      "toc_visible": true,
      "machine_shape": "hm"
    },
    "kernelspec": {
      "name": "python3",
      "display_name": "Python 3"
    },
    "language_info": {
      "name": "python"
    }
  },
  "cells": [
    {
      "cell_type": "code",
      "metadata": {
        "colab": {
          "base_uri": "https://localhost:8080/",
          "height": 454
        },
        "id": "PiobpRXZQOOz",
        "outputId": "1238dc78-a807-4762-baf2-baaed54c383c"
      },
      "source": [
        "#@title PySpark Setup(run me!)\n",
        "!apt-get update\n",
        "!apt-get install openjdk-8-jdk-headless -qq > /dev/null\n",
        "!wget -q https://www-us.apache.org/dist/spark/spark-3.0.2/spark-3.0.2-bin-hadoop2.7.tgz\n",
        "!tar xf spark-3.0.2-bin-hadoop2.7.tgz\n",
        "!pip install -q findspark\n",
        "\n",
        "import os\n",
        "os.environ[\"JAVA_HOME\"] = \"/usr/lib/jvm/java-8-openjdk-amd64\"\n",
        "os.environ[\"SPARK_HOME\"] = \"/content/spark-3.0.2-bin-hadoop2.7\"\n",
        "\n",
        "import findspark\n",
        "findspark.init()\n",
        "\n",
        "findspark.find()\n",
        "\n",
        "from pyspark.sql import SparkSession\n",
        "\n",
        "spark = SparkSession.builder\\\n",
        "        .master(\"local\")\\\n",
        "        .appName(\"Colab\")\\\n",
        "        .config('spark.ui.port', '4050')\\\n",
        "        .getOrCreate()\n",
        "\n",
        "spark"
      ],
      "execution_count": null,
      "outputs": [
        {
          "output_type": "stream",
          "text": [
            "\r0% [Working]\r            \rHit:1 http://ppa.launchpad.net/c2d4u.team/c2d4u4.0+/ubuntu bionic InRelease\n",
            "\r0% [Connecting to archive.ubuntu.com (91.189.88.142)] [Connecting to security.u\r                                                                               \rHit:2 http://archive.ubuntu.com/ubuntu bionic InRelease\n",
            "\r                                                                               \rHit:3 http://ppa.launchpad.net/cran/libgit2/ubuntu bionic InRelease\n",
            "\r0% [Waiting for headers] [Connecting to security.ubuntu.com] [Connected to clou\r0% [1 InRelease gpgv 15.9 kB] [Waiting for headers] [Connecting to security.ubu\r                                                                               \rHit:4 http://archive.ubuntu.com/ubuntu bionic-updates InRelease\n",
            "\r0% [1 InRelease gpgv 15.9 kB] [Waiting for headers] [Connecting to security.ubu\r                                                                               \rHit:5 http://archive.ubuntu.com/ubuntu bionic-backports InRelease\n",
            "\r0% [1 InRelease gpgv 15.9 kB] [Connecting to security.ubuntu.com] [Waiting for \r                                                                               \rHit:6 http://ppa.launchpad.net/deadsnakes/ppa/ubuntu bionic InRelease\n",
            "\r0% [1 InRelease gpgv 15.9 kB] [Connecting to security.ubuntu.com] [Waiting for \r                                                                               \rHit:7 https://cloud.r-project.org/bin/linux/ubuntu bionic-cran40/ InRelease\n",
            "Hit:8 http://ppa.launchpad.net/graphics-drivers/ppa/ubuntu bionic InRelease\n",
            "Ign:9 https://developer.download.nvidia.com/compute/cuda/repos/ubuntu1804/x86_64  InRelease\n",
            "Hit:10 http://security.ubuntu.com/ubuntu bionic-security InRelease\n",
            "Ign:11 https://developer.download.nvidia.com/compute/machine-learning/repos/ubuntu1804/x86_64  InRelease\n",
            "Hit:12 https://developer.download.nvidia.com/compute/cuda/repos/ubuntu1804/x86_64  Release\n",
            "Hit:13 https://developer.download.nvidia.com/compute/machine-learning/repos/ubuntu1804/x86_64  Release\n",
            "Reading package lists... Done\n"
          ],
          "name": "stdout"
        },
        {
          "output_type": "execute_result",
          "data": {
            "text/html": [
              "\n",
              "            <div>\n",
              "                <p><b>SparkSession - in-memory</b></p>\n",
              "                \n",
              "        <div>\n",
              "            <p><b>SparkContext</b></p>\n",
              "\n",
              "            <p><a href=\"http://9b521c746caf:4050\">Spark UI</a></p>\n",
              "\n",
              "            <dl>\n",
              "              <dt>Version</dt>\n",
              "                <dd><code>v3.0.2</code></dd>\n",
              "              <dt>Master</dt>\n",
              "                <dd><code>local</code></dd>\n",
              "              <dt>AppName</dt>\n",
              "                <dd><code>Colab</code></dd>\n",
              "            </dl>\n",
              "        </div>\n",
              "        \n",
              "            </div>\n",
              "        "
            ],
            "text/plain": [
              "<pyspark.sql.session.SparkSession at 0x7fcd8d90e090>"
            ]
          },
          "metadata": {
            "tags": []
          },
          "execution_count": 1
        }
      ]
    },
    {
      "cell_type": "code",
      "metadata": {
        "id": "UpfxRv899Zag"
      },
      "source": [
        "#@title Dynamic Input(select your choices and run the cell)\n",
        "Date_to_calculate_age = '2020-01-01' #@param {type:\"date\"}\n",
        "Choose_a_model_version = 'V24' #@param [\"V22\",\"V24\", \"RX\", \"ESRD-P1\",\"ESRD-P2\"]\n",
        "Choose_a_model_year = '2020' #@param [\"2020\",\"2021\"]\n",
        "Sex_Age_edits_required = 'Yes' #@param [\"Yes\",\"No\"]\n"
      ],
      "execution_count": null,
      "outputs": []
    },
    {
      "cell_type": "code",
      "metadata": {
        "colab": {
          "base_uri": "https://localhost:8080/"
        },
        "id": "NZa_hJuS3wrL",
        "outputId": "adac17db-081c-4d89-ea3d-a7223116f2ae"
      },
      "source": [
        "from google.colab import drive\n",
        "drive.mount('/content/drive')"
      ],
      "execution_count": null,
      "outputs": [
        {
          "output_type": "stream",
          "text": [
            "Mounted at /content/drive\n"
          ],
          "name": "stdout"
        }
      ]
    },
    {
      "cell_type": "code",
      "metadata": {
        "id": "V2FnTwwJwZWi",
        "colab": {
          "base_uri": "https://localhost:8080/"
        },
        "outputId": "7df4eb0a-043f-4c29-f17e-ebf1649ac415"
      },
      "source": [
        "#@title Age Calculation\n",
        "import pandas \n",
        "import os\n",
        "import pyspark.sql.functions as func\n",
        "from pyspark.sql.functions import datediff, to_date, lit\n",
        "from pyspark.sql.functions import struct\n",
        "from pyspark.sql.types import IntegerType\n",
        "from pyspark.sql.functions import udf\n",
        "\n",
        "\n",
        "#Loading Persons file\n",
        "df1 = pandas.read_csv (\"/content/Person-file2.csv\")\n",
        "#df1=df.drop(['Unnamed: 8', 'Unnamed: 9','Unnamed: 10'], axis=1)\n",
        "df1 = spark.createDataFrame(df1)\n",
        "\n",
        "df2=df1.withColumn(\"Age\",(datediff(to_date(lit(Date_to_calculate_age)),(\"DOB\")))/366)\n",
        "df3 = df2.withColumn(\"Age\", func.round(df2[\"Age\"], 2).cast('integer'))\n",
        "\n",
        "#Condition for AGE and OREC\n",
        "def func(Age, OREC):\n",
        "  if Age == 64 and OREC == 0:\n",
        "    return 65\n",
        "  elif Age < 0 :\n",
        "    return 0\n",
        "  return Age\n",
        "\n",
        "\n",
        "func_udf = udf(func, IntegerType())\n",
        "df4 = df3.withColumn('new_column',func_udf(df3['Age'], df3['OREC']))\n",
        "\n",
        "drop_list = [ 'Age',]\n",
        "sdf5=df4.select([column for column in df4.columns if column not in drop_list])\n",
        "\n",
        "df_final = sdf5.withColumnRenamed(\"new_column\", \"Age\")\n",
        "\n",
        "df_final.show()"
      ],
      "execution_count": null,
      "outputs": [
        {
          "output_type": "stream",
          "text": [
            "+---------+----------+------+----+--------+-------+----+-----+---+\n",
            "|Person ID|       DOB|Gender|OREC|LTIMCAID|NEMCAID|ESRD|MCAID|Age|\n",
            "+---------+----------+------+----+--------+-------+----+-----+---+\n",
            "|      111|1940-03-18|     2|   1|       0|      0|   1|    0| 79|\n",
            "|      112|1947-02-23|     1|   2|       0|      0|   0|    0| 72|\n",
            "|      113|1950-04-06|     1|   1|       0|      1|   1|    0| 69|\n",
            "|      114|1948-09-05|     2|   0|       1|      1|   1|    0| 71|\n",
            "|      115|1940-04-30|     2|   3|       0|      0|   0|    0| 79|\n",
            "|      116|1951-03-25|     1|   0|       1|      1|   1|    1| 68|\n",
            "|      117|1947-02-03|     1|   0|       0|      0|   0|    1| 72|\n",
            "|      118|1949-04-11|     1|   2|       0|      0|   0|    0| 70|\n",
            "|      119|1954-09-12|     1|   1|       0|      0|   1|    0| 65|\n",
            "|      120|1941-01-16|     1|   1|       1|      1|   0|    0| 78|\n",
            "|      121|1943-09-29|     1|   3|       0|      0|   0|    0| 76|\n",
            "|      122|1945-03-22|     2|   0|       0|      0|   0|    0| 74|\n",
            "|      123|1943-08-27|     1|   3|       0|      0|   1|    1| 76|\n",
            "|      124|1943-02-20|     1|   1|       1|      0|   0|    0| 76|\n",
            "|      125|1948-02-08|     2|   3|       0|      0|   0|    0| 71|\n",
            "|      126|1948-09-30|     2|   2|       0|      1|   0|    0| 71|\n",
            "|      127|1947-07-22|     2|   0|       1|      0|   1|    0| 72|\n",
            "|      128|1950-12-20|     1|   1|       1|      1|   1|    1| 68|\n",
            "|      129|1941-04-09|     1|   1|       0|      0|   1|    0| 78|\n",
            "|      130|1943-09-15|     1|   2|       1|      1|   0|    1| 76|\n",
            "+---------+----------+------+----+--------+-------+----+-----+---+\n",
            "only showing top 20 rows\n",
            "\n"
          ],
          "name": "stdout"
        }
      ]
    },
    {
      "cell_type": "code",
      "metadata": {
        "id": "1BDh7FUDk0AP",
        "colab": {
          "base_uri": "https://localhost:8080/"
        },
        "outputId": "543a1519-c82b-40ef-8777-7a7f44308f61"
      },
      "source": [
        "#@title Demography Variable\n",
        "\n",
        "import pandas as pd\n",
        "from pyspark.sql.functions import datediff, to_date, lit\n",
        "from pyspark.sql.functions import col, expr, when\n",
        "import pyspark.sql.functions as F\n",
        "from pyspark.sql.types import *\n",
        "\n",
        "data = df_final\n",
        "\n",
        "demo = (spark.read.format(\"csv\").options(header=\"true\").load(\"/content/Demography Variable Calculations.csv\"))\n",
        "\n",
        "demo = demo.filter((demo['Version'] == Choose_a_model_version) & (demo['Year'] == Choose_a_model_year))\n",
        "data = data.withColumn(\"Year\", lit(str(Choose_a_model_year)))\n",
        "data = data.withColumn(\"Version\", lit(str(Choose_a_model_version)))\n",
        "\n",
        "for i in demo.collect():\n",
        "  data = data.withColumn(i[2], expr(i[3]))\n",
        "\n",
        "data.show()\n",
        "\n",
        "#data=data.toPandas()"
      ],
      "execution_count": null,
      "outputs": [
        {
          "output_type": "stream",
          "text": [
            "+---------+----------+------+----+--------+-------+----+-----+---+----+-------+------+-----+------+------+------+------+------+------+------+------+------+------+------+----------+-----+------+------+------+------+------+------+------+------+------+------+------+----------------+----------------+---------+-------+--------+--------+--------+--------+-----+-----+-----+-----+-----+--------+--------+--------+--------+--------+--------+-------+--------+--------+--------+--------+-----+-----+-----+-----+-----+--------+--------+--------+--------+--------+--------+----------------+----------------+------+\n",
            "|Person ID|       DOB|Gender|OREC|LTIMCAID|NEMCAID|ESRD|MCAID|Age|Year|Version|DISABL|F0_34|F35_44|F45_54|F55_59|F60_64|F65_69|F70_74|F75_79|F80_84|F85_89|F90_94|F95_GT|LTIMCAID_O|M0_34|M35_44|M45_54|M55_59|M60_64|M65_69|M70_74|M75_79|M80_84|M85_89|M90_94|M95_GT|MCAID_NORIGDIS  |MCAID_ORIGDIS   |NE_ORIGDS|NEF0_34|NEF35_44|NEF45_54|NEF55_59|NEF60_64|NEF65|NEF66|NEF67|NEF68|NEF69|NEF70_74|NEF75_79|NEF80_84|NEF85_89|NEF90_94|NEF95_GT|NEM0_34|NEM35_44|NEM45_54|NEM55_59|NEM60_64|NEM65|NEM66|NEM67|NEM68|NEM69|NEM70_74|NEM75_79|NEM80_84|NEM85_89|NEM90_94|NEM95_GT|NMCAID_NORIGDIS |NMCAID_ORIGDIS  |ORIGDS|\n",
            "+---------+----------+------+----+--------+-------+----+-----+---+----+-------+------+-----+------+------+------+------+------+------+------+------+------+------+------+----------+-----+------+------+------+------+------+------+------+------+------+------+------+----------------+----------------+---------+-------+--------+--------+--------+--------+-----+-----+-----+-----+-----+--------+--------+--------+--------+--------+--------+-------+--------+--------+--------+--------+-----+-----+-----+-----+-----+--------+--------+--------+--------+--------+--------+----------------+----------------+------+\n",
            "|      111|1940-03-18|     2|   1|       0|      0|   1|    0| 79|2020|    V24|     0|    0|     0|     0|     0|     0|     0|     0|     1|     0|     0|     0|     0|         0|    0|     0|     0|     0|     0|     0|     0|     0|     0|     0|     0|     0|               0|               0|        1|      0|       0|       0|       0|       0|    0|    0|    0|    0|    0|       0|       1|       0|       0|       0|       0|      0|       0|       0|       0|       0|    0|    0|    0|    0|    0|       0|       0|       0|       0|       0|       0|               0|               1|     1|\n",
            "|      112|1947-02-23|     1|   2|       0|      0|   0|    0| 72|2020|    V24|     0|    0|     0|     0|     0|     0|     0|     0|     0|     0|     0|     0|     0|         0|    0|     0|     0|     0|     0|     0|     1|     0|     0|     0|     0|     0|               0|               0|        0|      0|       0|       0|       0|       0|    0|    0|    0|    0|    0|       0|       0|       0|       0|       0|       0|      0|       0|       0|       0|       0|    0|    0|    0|    0|    0|       1|       0|       0|       0|       0|       0|               1|               0|     0|\n",
            "|      113|1950-04-06|     1|   1|       0|      1|   1|    0| 69|2020|    V24|     0|    0|     0|     0|     0|     0|     0|     0|     0|     0|     0|     0|     0|         0|    0|     0|     0|     0|     0|     1|     0|     0|     0|     0|     0|     0|               0|               1|        1|      0|       0|       0|       0|       0|    0|    0|    0|    0|    0|       0|       0|       0|       0|       0|       0|      0|       0|       0|       0|       0|    0|    0|    0|    0|    1|       0|       0|       0|       0|       0|       0|               0|               0|     1|\n",
            "|      114|1948-09-05|     2|   0|       1|      1|   1|    0| 71|2020|    V24|     0|    0|     0|     0|     0|     0|     0|     1|     0|     0|     0|     0|     0|         1|    0|     0|     0|     0|     0|     0|     0|     0|     0|     0|     0|     0|               1|               0|        0|      0|       0|       0|       0|       0|    0|    0|    0|    0|    0|       1|       0|       0|       0|       0|       0|      0|       0|       0|       0|       0|    0|    0|    0|    0|    0|       0|       0|       0|       0|       0|       0|               0|               0|     0|\n",
            "|      115|1940-04-30|     2|   3|       0|      0|   0|    0| 79|2020|    V24|     0|    0|     0|     0|     0|     0|     0|     0|     1|     0|     0|     0|     0|         0|    0|     0|     0|     0|     0|     0|     0|     0|     0|     0|     0|     0|               0|               0|        0|      0|       0|       0|       0|       0|    0|    0|    0|    0|    0|       0|       1|       0|       0|       0|       0|      0|       0|       0|       0|       0|    0|    0|    0|    0|    0|       0|       0|       0|       0|       0|       0|               1|               0|     0|\n",
            "|      116|1951-03-25|     1|   0|       1|      1|   1|    1| 68|2020|    V24|     0|    0|     0|     0|     0|     0|     0|     0|     0|     0|     0|     0|     0|         1|    0|     0|     0|     0|     0|     1|     0|     0|     0|     0|     0|     0|               1|               0|        0|      0|       0|       0|       0|       0|    0|    0|    0|    0|    0|       0|       0|       0|       0|       0|       0|      0|       0|       0|       0|       0|    0|    0|    0|    1|    0|       0|       0|       0|       0|       0|       0|               0|               0|     0|\n",
            "|      117|1947-02-03|     1|   0|       0|      0|   0|    1| 72|2020|    V24|     0|    0|     0|     0|     0|     0|     0|     0|     0|     0|     0|     0|     0|         0|    0|     0|     0|     0|     0|     0|     1|     0|     0|     0|     0|     0|               0|               0|        0|      0|       0|       0|       0|       0|    0|    0|    0|    0|    0|       0|       0|       0|       0|       0|       0|      0|       0|       0|       0|       0|    0|    0|    0|    0|    0|       1|       0|       0|       0|       0|       0|               1|               0|     0|\n",
            "|      118|1949-04-11|     1|   2|       0|      0|   0|    0| 70|2020|    V24|     0|    0|     0|     0|     0|     0|     0|     0|     0|     0|     0|     0|     0|         0|    0|     0|     0|     0|     0|     0|     1|     0|     0|     0|     0|     0|               0|               0|        0|      0|       0|       0|       0|       0|    0|    0|    0|    0|    0|       0|       0|       0|       0|       0|       0|      0|       0|       0|       0|       0|    0|    0|    0|    0|    0|       1|       0|       0|       0|       0|       0|               1|               0|     0|\n",
            "|      119|1954-09-12|     1|   1|       0|      0|   1|    0| 65|2020|    V24|     0|    0|     0|     0|     0|     0|     0|     0|     0|     0|     0|     0|     0|         0|    0|     0|     0|     0|     0|     1|     0|     0|     0|     0|     0|     0|               0|               0|        1|      0|       0|       0|       0|       0|    0|    0|    0|    0|    0|       0|       0|       0|       0|       0|       0|      0|       0|       0|       0|       0|    1|    0|    0|    0|    0|       0|       0|       0|       0|       0|       0|               0|               1|     1|\n",
            "|      120|1941-01-16|     1|   1|       1|      1|   0|    0| 78|2020|    V24|     0|    0|     0|     0|     0|     0|     0|     0|     0|     0|     0|     0|     0|         1|    0|     0|     0|     0|     0|     0|     0|     1|     0|     0|     0|     0|               0|               1|        1|      0|       0|       0|       0|       0|    0|    0|    0|    0|    0|       0|       0|       0|       0|       0|       0|      0|       0|       0|       0|       0|    0|    0|    0|    0|    0|       0|       1|       0|       0|       0|       0|               0|               0|     1|\n",
            "|      121|1943-09-29|     1|   3|       0|      0|   0|    0| 76|2020|    V24|     0|    0|     0|     0|     0|     0|     0|     0|     0|     0|     0|     0|     0|         0|    0|     0|     0|     0|     0|     0|     0|     1|     0|     0|     0|     0|               0|               0|        0|      0|       0|       0|       0|       0|    0|    0|    0|    0|    0|       0|       0|       0|       0|       0|       0|      0|       0|       0|       0|       0|    0|    0|    0|    0|    0|       0|       1|       0|       0|       0|       0|               1|               0|     0|\n",
            "|      122|1945-03-22|     2|   0|       0|      0|   0|    0| 74|2020|    V24|     0|    0|     0|     0|     0|     0|     0|     1|     0|     0|     0|     0|     0|         0|    0|     0|     0|     0|     0|     0|     0|     0|     0|     0|     0|     0|               0|               0|        0|      0|       0|       0|       0|       0|    0|    0|    0|    0|    0|       1|       0|       0|       0|       0|       0|      0|       0|       0|       0|       0|    0|    0|    0|    0|    0|       0|       0|       0|       0|       0|       0|               1|               0|     0|\n",
            "|      123|1943-08-27|     1|   3|       0|      0|   1|    1| 76|2020|    V24|     0|    0|     0|     0|     0|     0|     0|     0|     0|     0|     0|     0|     0|         0|    0|     0|     0|     0|     0|     0|     0|     1|     0|     0|     0|     0|               0|               0|        0|      0|       0|       0|       0|       0|    0|    0|    0|    0|    0|       0|       0|       0|       0|       0|       0|      0|       0|       0|       0|       0|    0|    0|    0|    0|    0|       0|       1|       0|       0|       0|       0|               1|               0|     0|\n",
            "|      124|1943-02-20|     1|   1|       1|      0|   0|    0| 76|2020|    V24|     0|    0|     0|     0|     0|     0|     0|     0|     0|     0|     0|     0|     0|         1|    0|     0|     0|     0|     0|     0|     0|     1|     0|     0|     0|     0|               0|               0|        1|      0|       0|       0|       0|       0|    0|    0|    0|    0|    0|       0|       0|       0|       0|       0|       0|      0|       0|       0|       0|       0|    0|    0|    0|    0|    0|       0|       1|       0|       0|       0|       0|               0|               1|     1|\n",
            "|      125|1948-02-08|     2|   3|       0|      0|   0|    0| 71|2020|    V24|     0|    0|     0|     0|     0|     0|     0|     1|     0|     0|     0|     0|     0|         0|    0|     0|     0|     0|     0|     0|     0|     0|     0|     0|     0|     0|               0|               0|        0|      0|       0|       0|       0|       0|    0|    0|    0|    0|    0|       1|       0|       0|       0|       0|       0|      0|       0|       0|       0|       0|    0|    0|    0|    0|    0|       0|       0|       0|       0|       0|       0|               1|               0|     0|\n",
            "|      126|1948-09-30|     2|   2|       0|      1|   0|    0| 71|2020|    V24|     0|    0|     0|     0|     0|     0|     0|     1|     0|     0|     0|     0|     0|         0|    0|     0|     0|     0|     0|     0|     0|     0|     0|     0|     0|     0|               1|               0|        0|      0|       0|       0|       0|       0|    0|    0|    0|    0|    0|       1|       0|       0|       0|       0|       0|      0|       0|       0|       0|       0|    0|    0|    0|    0|    0|       0|       0|       0|       0|       0|       0|               0|               0|     0|\n",
            "|      127|1947-07-22|     2|   0|       1|      0|   1|    0| 72|2020|    V24|     0|    0|     0|     0|     0|     0|     0|     1|     0|     0|     0|     0|     0|         1|    0|     0|     0|     0|     0|     0|     0|     0|     0|     0|     0|     0|               0|               0|        0|      0|       0|       0|       0|       0|    0|    0|    0|    0|    0|       1|       0|       0|       0|       0|       0|      0|       0|       0|       0|       0|    0|    0|    0|    0|    0|       0|       0|       0|       0|       0|       0|               1|               0|     0|\n",
            "|      128|1950-12-20|     1|   1|       1|      1|   1|    1| 68|2020|    V24|     0|    0|     0|     0|     0|     0|     0|     0|     0|     0|     0|     0|     0|         1|    0|     0|     0|     0|     0|     1|     0|     0|     0|     0|     0|     0|               0|               1|        1|      0|       0|       0|       0|       0|    0|    0|    0|    0|    0|       0|       0|       0|       0|       0|       0|      0|       0|       0|       0|       0|    0|    0|    0|    1|    0|       0|       0|       0|       0|       0|       0|               0|               0|     1|\n",
            "|      129|1941-04-09|     1|   1|       0|      0|   1|    0| 78|2020|    V24|     0|    0|     0|     0|     0|     0|     0|     0|     0|     0|     0|     0|     0|         0|    0|     0|     0|     0|     0|     0|     0|     1|     0|     0|     0|     0|               0|               0|        1|      0|       0|       0|       0|       0|    0|    0|    0|    0|    0|       0|       0|       0|       0|       0|       0|      0|       0|       0|       0|       0|    0|    0|    0|    0|    0|       0|       1|       0|       0|       0|       0|               0|               1|     1|\n",
            "|      130|1943-09-15|     1|   2|       1|      1|   0|    1| 76|2020|    V24|     0|    0|     0|     0|     0|     0|     0|     0|     0|     0|     0|     0|     0|         1|    0|     0|     0|     0|     0|     0|     0|     1|     0|     0|     0|     0|               1|               0|        0|      0|       0|       0|       0|       0|    0|    0|    0|    0|    0|       0|       0|       0|       0|       0|       0|      0|       0|       0|       0|       0|    0|    0|    0|    0|    0|       0|       1|       0|       0|       0|       0|               0|               0|     0|\n",
            "+---------+----------+------+----+--------+-------+----+-----+---+----+-------+------+-----+------+------+------+------+------+------+------+------+------+------+------+----------+-----+------+------+------+------+------+------+------+------+------+------+------+----------------+----------------+---------+-------+--------+--------+--------+--------+-----+-----+-----+-----+-----+--------+--------+--------+--------+--------+--------+-------+--------+--------+--------+--------+-----+-----+-----+-----+-----+--------+--------+--------+--------+--------+--------+----------------+----------------+------+\n",
            "only showing top 20 rows\n",
            "\n"
          ],
          "name": "stdout"
        }
      ]
    },
    {
      "cell_type": "code",
      "metadata": {
        "id": "OtFNEu-IOq3k"
      },
      "source": [
        "data = data.withColumnRenamed(\"Version\",\"V\")"
      ],
      "execution_count": null,
      "outputs": []
    },
    {
      "cell_type": "code",
      "metadata": {
        "id": "2fCGl3EN6Vsx",
        "colab": {
          "base_uri": "https://localhost:8080/"
        },
        "outputId": "58505557-08b9-433a-d239-ba07eca42a72"
      },
      "source": [
        "data.show(5)"
      ],
      "execution_count": null,
      "outputs": [
        {
          "output_type": "stream",
          "text": [
            "+---------+----------+------+----+--------+-------+----+-----+---+----+---+------+-----+------+------+------+------+------+------+------+------+------+------+------+----------+-----+------+------+------+------+------+------+------+------+------+------+------+----------------+----------------+---------+-------+--------+--------+--------+--------+-----+-----+-----+-----+-----+--------+--------+--------+--------+--------+--------+-------+--------+--------+--------+--------+-----+-----+-----+-----+-----+--------+--------+--------+--------+--------+--------+----------------+----------------+------+\n",
            "|Person ID|       DOB|Gender|OREC|LTIMCAID|NEMCAID|ESRD|MCAID|Age|Year|  V|DISABL|F0_34|F35_44|F45_54|F55_59|F60_64|F65_69|F70_74|F75_79|F80_84|F85_89|F90_94|F95_GT|LTIMCAID_O|M0_34|M35_44|M45_54|M55_59|M60_64|M65_69|M70_74|M75_79|M80_84|M85_89|M90_94|M95_GT|MCAID_NORIGDIS  |MCAID_ORIGDIS   |NE_ORIGDS|NEF0_34|NEF35_44|NEF45_54|NEF55_59|NEF60_64|NEF65|NEF66|NEF67|NEF68|NEF69|NEF70_74|NEF75_79|NEF80_84|NEF85_89|NEF90_94|NEF95_GT|NEM0_34|NEM35_44|NEM45_54|NEM55_59|NEM60_64|NEM65|NEM66|NEM67|NEM68|NEM69|NEM70_74|NEM75_79|NEM80_84|NEM85_89|NEM90_94|NEM95_GT|NMCAID_NORIGDIS |NMCAID_ORIGDIS  |ORIGDS|\n",
            "+---------+----------+------+----+--------+-------+----+-----+---+----+---+------+-----+------+------+------+------+------+------+------+------+------+------+------+----------+-----+------+------+------+------+------+------+------+------+------+------+------+----------------+----------------+---------+-------+--------+--------+--------+--------+-----+-----+-----+-----+-----+--------+--------+--------+--------+--------+--------+-------+--------+--------+--------+--------+-----+-----+-----+-----+-----+--------+--------+--------+--------+--------+--------+----------------+----------------+------+\n",
            "|      111|1940-03-18|     2|   1|       0|      0|   1|    0| 79|2020|V24|     0|    0|     0|     0|     0|     0|     0|     0|     1|     0|     0|     0|     0|         0|    0|     0|     0|     0|     0|     0|     0|     0|     0|     0|     0|     0|               0|               0|        1|      0|       0|       0|       0|       0|    0|    0|    0|    0|    0|       0|       1|       0|       0|       0|       0|      0|       0|       0|       0|       0|    0|    0|    0|    0|    0|       0|       0|       0|       0|       0|       0|               0|               1|     1|\n",
            "|      112|1947-02-23|     1|   2|       0|      0|   0|    0| 72|2020|V24|     0|    0|     0|     0|     0|     0|     0|     0|     0|     0|     0|     0|     0|         0|    0|     0|     0|     0|     0|     0|     1|     0|     0|     0|     0|     0|               0|               0|        0|      0|       0|       0|       0|       0|    0|    0|    0|    0|    0|       0|       0|       0|       0|       0|       0|      0|       0|       0|       0|       0|    0|    0|    0|    0|    0|       1|       0|       0|       0|       0|       0|               1|               0|     0|\n",
            "|      113|1950-04-06|     1|   1|       0|      1|   1|    0| 69|2020|V24|     0|    0|     0|     0|     0|     0|     0|     0|     0|     0|     0|     0|     0|         0|    0|     0|     0|     0|     0|     1|     0|     0|     0|     0|     0|     0|               0|               1|        1|      0|       0|       0|       0|       0|    0|    0|    0|    0|    0|       0|       0|       0|       0|       0|       0|      0|       0|       0|       0|       0|    0|    0|    0|    0|    1|       0|       0|       0|       0|       0|       0|               0|               0|     1|\n",
            "|      114|1948-09-05|     2|   0|       1|      1|   1|    0| 71|2020|V24|     0|    0|     0|     0|     0|     0|     0|     1|     0|     0|     0|     0|     0|         1|    0|     0|     0|     0|     0|     0|     0|     0|     0|     0|     0|     0|               1|               0|        0|      0|       0|       0|       0|       0|    0|    0|    0|    0|    0|       1|       0|       0|       0|       0|       0|      0|       0|       0|       0|       0|    0|    0|    0|    0|    0|       0|       0|       0|       0|       0|       0|               0|               0|     0|\n",
            "|      115|1940-04-30|     2|   3|       0|      0|   0|    0| 79|2020|V24|     0|    0|     0|     0|     0|     0|     0|     0|     1|     0|     0|     0|     0|         0|    0|     0|     0|     0|     0|     0|     0|     0|     0|     0|     0|     0|               0|               0|        0|      0|       0|       0|       0|       0|    0|    0|    0|    0|    0|       0|       1|       0|       0|       0|       0|      0|       0|       0|       0|       0|    0|    0|    0|    0|    0|       0|       0|       0|       0|       0|       0|               1|               0|     0|\n",
            "+---------+----------+------+----+--------+-------+----+-----+---+----+---+------+-----+------+------+------+------+------+------+------+------+------+------+------+----------+-----+------+------+------+------+------+------+------+------+------+------+------+----------------+----------------+---------+-------+--------+--------+--------+--------+-----+-----+-----+-----+-----+--------+--------+--------+--------+--------+--------+-------+--------+--------+--------+--------+-----+-----+-----+-----+-----+--------+--------+--------+--------+--------+--------+----------------+----------------+------+\n",
            "only showing top 5 rows\n",
            "\n"
          ],
          "name": "stdout"
        }
      ]
    },
    {
      "cell_type": "code",
      "metadata": {
        "id": "bwj6p6h2laIS",
        "colab": {
          "base_uri": "https://localhost:8080/"
        },
        "outputId": "130039f2-8546-4e5b-a6aa-85849fda457e"
      },
      "source": [
        "#@title CC_Mapping\n",
        "\n",
        "import pandas as pd\n",
        "import numpy as np\n",
        "import time\n",
        "from pyspark.sql.functions import length,col,trim\n",
        "from pyspark.sql.functions import UserDefinedFunction\n",
        "from pyspark.sql.types import *\n",
        "from pyspark.sql import functions as F\n",
        "from pyspark.sql.functions import col\n",
        "\n",
        "df_diagnosis = pd.read_csv('/content/Person_DiagonsisCodes2.csv')\n",
        "df_diagnosis = spark.createDataFrame(df_diagnosis)\n",
        "df_diagnosis = df_diagnosis.withColumn('DIAGNOSIS CODE',trim(col(\"DIAGNOSIS CODE\")))\n",
        "\n",
        "df_CC_mapping = pd.read_csv('/content/drive/MyDrive/Index Analytics/CC Mapping.csv')\n",
        "label_schema = StructType([\n",
        "    StructField(\"YEAR\", StringType()),\n",
        "    StructField(\"VERSION\", StringType()),\n",
        "    StructField(\"DIAGNOSIS CODE\", StringType()),\n",
        "    StructField(\"CC\", IntegerType())\n",
        "])\n",
        "df_CC_mapping = spark.createDataFrame(df_CC_mapping,schema= label_schema)\n",
        "\n",
        "\n",
        "start=time.time()\n",
        "# for year in model_years:\n",
        "#   for version in versions:\n",
        "cond1= col('YEAR')== str(Choose_a_model_year)\n",
        "cond2= col('VERSION')== str(Choose_a_model_version)\n",
        "df_temp= df_CC_mapping.where(cond1 & cond2)\n",
        "\n",
        "# df_temp.show(5)\n",
        "df_temp= df_temp.toDF('YEAR','VERSION','D_DIAG CODE','CC')\n",
        "\n",
        "h= df_temp.join(df_diagnosis,(df_diagnosis[\"DIAGNOSIS CODE\"] == df_temp[\"D_DIAG CODE\"]),how='right')  # Mtachin diagnosis codes from diagnosis input file and CC_mapping file\n",
        "\n",
        "unique_HCC= sorted([i.CC for i in df_temp.select('CC').distinct().collect()]) #Finding all unique values of HCC and storing it in a list to generate HCC columns later\n",
        "\n",
        "CC_list = h.select(\"CC\").rdd.flatMap(lambda x: x).collect()\n",
        "\n",
        "p_id = h.select(\"PERSON ID\").rdd.flatMap(lambda x: x).collect()\n",
        "\n",
        "diag_code= h.select(\"DIAGNOSIS CODE\").rdd.flatMap(lambda x: x).collect()\n",
        "\n",
        "\n",
        "df_main= pd.DataFrame()\n",
        "df_main['PERSON ID']= p_id\n",
        "df_main['DIAGNOSIS CODE']= diag_code \n",
        "\n",
        "df_main['HCC']= CC_list  # CC values obtained after mapping from Part 2.\n",
        "df_main['HCC'] = list(df_main['HCC'].astype(np.float).astype(\"Int32\"))\n",
        "\n",
        "df_main['MODEL YEAR']= str(Choose_a_model_year)\n",
        "df_main['Version']=str(Choose_a_model_version)\n",
        "\n",
        "# df_main\n",
        "if 'RX' in Choose_a_model_version:\n",
        "  columns_df=[]\n",
        "  for value in (unique_HCC):\n",
        "    columns_df.append('RXHCC'+str(value)) # Example: RXHCC1,RXHCC2,RXHCC3 etc\n",
        "  #print(columns_df)\n",
        "  for colum in range(len(columns_df)):\n",
        "    df_main[columns_df[colum]]=0  #adding zero's to every column \n",
        "\n",
        "  for v in range(len(df_main)):                         \n",
        "    df_main.at[v,'RXHCC'+ str(df_main.iloc[v][2])]=1   # Adding 1's to columns. Example if df_main['HCC'][10]= 22, then adding a 1 in HCC10 column in the 9th row. \n",
        "\n",
        "  df_main = df_main.drop(df_main.columns[-1],axis=1)\n",
        "  #df_main.to_excel(str(Choose_a_model_version)+'_'+str(Choose_a_model_year)+'.xlsx')\n",
        "\n",
        "\n",
        "else:\n",
        "  # Part 5: Creating new columns with column names as HCC values obtained from Part 4\n",
        "  columns_df=[]\n",
        "  for value in (unique_HCC):\n",
        "    columns_df.append('HCC'+str(value)) # Example: HCC1,HCC2,HCC3 etc\n",
        "  #print(columns_df)\n",
        "  for colum in range(len(columns_df)):\n",
        "    df_main[columns_df[colum]]=0  #adding zero's to every column \n",
        "\n",
        "  for v in range(len(df_main)):                         \n",
        "    df_main.at[v,'HCC'+ str(df_main.iloc[v][2])]=1   # Adding 1's to columns. Example if df_main['HCC'][10]= 22, then adding a 1 in HCC10 column in the 9th row. \n",
        "\n",
        "  df_main = df_main.drop(df_main.columns[-1],axis=1)\n",
        "  #df_main.to_excel(str(Choose_a_model_version)+'_'+str(Choose_a_model_year)+'.xlsx')\n",
        "\n",
        "\n",
        "df_main= df_main.fillna(0)\n",
        "spark_df_main= spark.createDataFrame(df_main)\n",
        "spark_df_main.show(5)\n",
        "print(time.time()-start)"
      ],
      "execution_count": null,
      "outputs": [
        {
          "output_type": "stream",
          "text": [
            "+---------+--------------+---+----------+-------+----+----+----+----+----+-----+-----+-----+-----+-----+-----+-----+-----+-----+-----+-----+-----+-----+-----+-----+-----+-----+-----+-----+-----+-----+-----+-----+-----+-----+-----+-----+-----+-----+-----+-----+-----+-----+-----+-----+-----+-----+-----+-----+-----+-----+-----+-----+-----+-----+-----+-----+-----+-----+------+------+------+------+------+------+------+------+------+------+------+------+------+------+------+------+------+------+------+------+------+------+------+------+------+------+------+------+------+------+------+------+\n",
            "|PERSON ID|DIAGNOSIS CODE|HCC|MODEL YEAR|Version|HCC1|HCC2|HCC6|HCC8|HCC9|HCC10|HCC11|HCC12|HCC17|HCC18|HCC19|HCC21|HCC22|HCC23|HCC27|HCC28|HCC29|HCC33|HCC34|HCC35|HCC39|HCC40|HCC46|HCC47|HCC48|HCC51|HCC52|HCC54|HCC55|HCC56|HCC57|HCC58|HCC59|HCC60|HCC70|HCC71|HCC72|HCC73|HCC74|HCC75|HCC76|HCC77|HCC78|HCC79|HCC80|HCC82|HCC83|HCC84|HCC85|HCC86|HCC87|HCC88|HCC96|HCC99|HCC100|HCC103|HCC104|HCC106|HCC107|HCC108|HCC110|HCC111|HCC112|HCC114|HCC115|HCC122|HCC124|HCC134|HCC135|HCC136|HCC137|HCC138|HCC157|HCC158|HCC159|HCC161|HCC162|HCC166|HCC167|HCC169|HCC170|HCC173|HCC176|HCC186|HCC188|HCC189|\n",
            "+---------+--------------+---+----------+-------+----+----+----+----+----+-----+-----+-----+-----+-----+-----+-----+-----+-----+-----+-----+-----+-----+-----+-----+-----+-----+-----+-----+-----+-----+-----+-----+-----+-----+-----+-----+-----+-----+-----+-----+-----+-----+-----+-----+-----+-----+-----+-----+-----+-----+-----+-----+-----+-----+-----+-----+-----+-----+------+------+------+------+------+------+------+------+------+------+------+------+------+------+------+------+------+------+------+------+------+------+------+------+------+------+------+------+------+------+------+------+\n",
            "|     2875|          C609| 12|      2020|    V24|   0|   0|   0|   0|   0|    0|    0|    1|    0|    0|    0|    0|    0|    0|    0|    0|    0|    0|    0|    0|    0|    0|    0|    0|    0|    0|    0|    0|    0|    0|    0|    0|    0|    0|    0|    0|    0|    0|    0|    0|    0|    0|    0|    0|    0|    0|    0|    0|    0|    0|    0|    0|    0|    0|     0|     0|     0|     0|     0|     0|     0|     0|     0|     0|     0|     0|     0|     0|     0|     0|     0|     0|     0|     0|     0|     0|     0|     0|     0|     0|     0|     0|     0|     0|     0|     0|\n",
            "|    11215|          C609| 12|      2020|    V24|   0|   0|   0|   0|   0|    0|    0|    1|    0|    0|    0|    0|    0|    0|    0|    0|    0|    0|    0|    0|    0|    0|    0|    0|    0|    0|    0|    0|    0|    0|    0|    0|    0|    0|    0|    0|    0|    0|    0|    0|    0|    0|    0|    0|    0|    0|    0|    0|    0|    0|    0|    0|    0|    0|     0|     0|     0|     0|     0|     0|     0|     0|     0|     0|     0|     0|     0|     0|     0|     0|     0|     0|     0|     0|     0|     0|     0|     0|     0|     0|     0|     0|     0|     0|     0|     0|\n",
            "|    17765|          C609| 12|      2020|    V24|   0|   0|   0|   0|   0|    0|    0|    1|    0|    0|    0|    0|    0|    0|    0|    0|    0|    0|    0|    0|    0|    0|    0|    0|    0|    0|    0|    0|    0|    0|    0|    0|    0|    0|    0|    0|    0|    0|    0|    0|    0|    0|    0|    0|    0|    0|    0|    0|    0|    0|    0|    0|    0|    0|     0|     0|     0|     0|     0|     0|     0|     0|     0|     0|     0|     0|     0|     0|     0|     0|     0|     0|     0|     0|     0|     0|     0|     0|     0|     0|     0|     0|     0|     0|     0|     0|\n",
            "|    32904|          C609| 12|      2020|    V24|   0|   0|   0|   0|   0|    0|    0|    1|    0|    0|    0|    0|    0|    0|    0|    0|    0|    0|    0|    0|    0|    0|    0|    0|    0|    0|    0|    0|    0|    0|    0|    0|    0|    0|    0|    0|    0|    0|    0|    0|    0|    0|    0|    0|    0|    0|    0|    0|    0|    0|    0|    0|    0|    0|     0|     0|     0|     0|     0|     0|     0|     0|     0|     0|     0|     0|     0|     0|     0|     0|     0|     0|     0|     0|     0|     0|     0|     0|     0|     0|     0|     0|     0|     0|     0|     0|\n",
            "|    33193|          C609| 12|      2020|    V24|   0|   0|   0|   0|   0|    0|    0|    1|    0|    0|    0|    0|    0|    0|    0|    0|    0|    0|    0|    0|    0|    0|    0|    0|    0|    0|    0|    0|    0|    0|    0|    0|    0|    0|    0|    0|    0|    0|    0|    0|    0|    0|    0|    0|    0|    0|    0|    0|    0|    0|    0|    0|    0|    0|     0|     0|     0|     0|     0|     0|     0|     0|     0|     0|     0|     0|     0|     0|     0|     0|     0|     0|     0|     0|     0|     0|     0|     0|     0|     0|     0|     0|     0|     0|     0|     0|\n",
            "+---------+--------------+---+----------+-------+----+----+----+----+----+-----+-----+-----+-----+-----+-----+-----+-----+-----+-----+-----+-----+-----+-----+-----+-----+-----+-----+-----+-----+-----+-----+-----+-----+-----+-----+-----+-----+-----+-----+-----+-----+-----+-----+-----+-----+-----+-----+-----+-----+-----+-----+-----+-----+-----+-----+-----+-----+-----+------+------+------+------+------+------+------+------+------+------+------+------+------+------+------+------+------+------+------+------+------+------+------+------+------+------+------+------+------+------+------+------+\n",
            "only showing top 5 rows\n",
            "\n",
            "712.0152950286865\n"
          ],
          "name": "stdout"
        }
      ]
    },
    {
      "cell_type": "markdown",
      "metadata": {
        "id": "p3WbXE4JpwKU"
      },
      "source": [
        "## @CC-Override"
      ]
    },
    {
      "cell_type": "code",
      "metadata": {
        "id": "b_QqGHHxUDvt"
      },
      "source": [
        "# #@title CC-Override\n",
        "\n",
        "data = data.withColumnRenamed(\"Person ID\", \"PERSON ID\")\n",
        "df = data.join(spark_df_main, 'PERSON ID', 'inner')\n",
        "columns_to_drop = ['Year','V']\n",
        "df= df.drop(*columns_to_drop)\n",
        "df=df.withColumnRenamed(\"DIAGNOSIS CODE\",\"DIAG\")\n",
        "df=df.withColumnRenamed(\"Gender\",\"SEX\")\n",
        "df=df.withColumnRenamed(\"Age\",\"AGEF\")\n",
        "\n",
        "data = df\n",
        "    \n",
        "overide_df = (spark.read.format(\"csv\").options(header=\"true\").load(\"/content/CC Override Rules.csv\"))\n",
        "overide_df = overide_df.withColumnRenamed(\"MODEL YEAR\",\"MODEL_YEAR\")\n",
        "overide_df = overide_df.filter((overide_df.VERSION.isin(Choose_a_model_version))&(overide_df.MODEL_YEAR.isin(Choose_a_model_year)))\n",
        "for i in overide_df.collect():\n",
        "  data = data.withColumn('HCC', expr(i[3]))\n",
        "#data.toPandas().to_excel('Merged_CCOveride.xlsx')"
      ],
      "execution_count": null,
      "outputs": []
    },
    {
      "cell_type": "code",
      "metadata": {
        "id": "bUDYz6BJ6TE4"
      },
      "source": [
        "df_CCmerged= data"
      ],
      "execution_count": null,
      "outputs": []
    },
    {
      "cell_type": "code",
      "metadata": {
        "colab": {
          "base_uri": "https://localhost:8080/"
        },
        "id": "bzl3B_t2-vcy",
        "outputId": "629dab69-7a18-4a43-a505-6b59d8f61a1e"
      },
      "source": [
        "df_CCmerged"
      ],
      "execution_count": null,
      "outputs": [
        {
          "output_type": "execute_result",
          "data": {
            "text/plain": [
              "DataFrame[PERSON ID: bigint, DOB: string, SEX: bigint, OREC: bigint, LTIMCAID: bigint, NEMCAID: bigint, ESRD: bigint, MCAID: bigint, AGEF: int, DISABL: int, F0_34: int, F35_44: int, F45_54: int, F55_59: int, F60_64: int, F65_69: int, F70_74: int, F75_79: int, F80_84: int, F85_89: int, F90_94: int, F95_GT: int, LTIMCAID_O: int, M0_34: int, M35_44: int, M45_54: int, M55_59: int, M60_64: int, M65_69: int, M70_74: int, M75_79: int, M80_84: int, M85_89: int, M90_94: int, M95_GT: int, MCAID_NORIGDIS  : int, MCAID_ORIGDIS   : int, NE_ORIGDS: int, NEF0_34: int, NEF35_44: int, NEF45_54: int, NEF55_59: int, NEF60_64: int, NEF65: int, NEF66: int, NEF67: int, NEF68: int, NEF69: int, NEF70_74: int, NEF75_79: int, NEF80_84: int, NEF85_89: int, NEF90_94: int, NEF95_GT: int, NEM0_34: int, NEM35_44: int, NEM45_54: int, NEM55_59: int, NEM60_64: int, NEM65: int, NEM66: int, NEM67: int, NEM68: int, NEM69: int, NEM70_74: int, NEM75_79: int, NEM80_84: int, NEM85_89: int, NEM90_94: int, NEM95_GT: int, NMCAID_NORIGDIS : int, NMCAID_ORIGDIS  : int, ORIGDS: int, DIAG: string, HCC: bigint, MODEL YEAR: string, Version: string, HCC1: bigint, HCC2: bigint, HCC6: bigint, HCC8: bigint, HCC9: bigint, HCC10: bigint, HCC11: bigint, HCC12: bigint, HCC17: bigint, HCC18: bigint, HCC19: bigint, HCC21: bigint, HCC22: bigint, HCC23: bigint, HCC27: bigint, HCC28: bigint, HCC29: bigint, HCC33: bigint, HCC34: bigint, HCC35: bigint, HCC39: bigint, HCC40: bigint, HCC46: bigint, HCC47: bigint, HCC48: bigint, HCC51: bigint, HCC52: bigint, HCC54: bigint, HCC55: bigint, HCC56: bigint, HCC57: bigint, HCC58: bigint, HCC59: bigint, HCC60: bigint, HCC70: bigint, HCC71: bigint, HCC72: bigint, HCC73: bigint, HCC74: bigint, HCC75: bigint, HCC76: bigint, HCC77: bigint, HCC78: bigint, HCC79: bigint, HCC80: bigint, HCC82: bigint, HCC83: bigint, HCC84: bigint, HCC85: bigint, HCC86: bigint, HCC87: bigint, HCC88: bigint, HCC96: bigint, HCC99: bigint, HCC100: bigint, HCC103: bigint, HCC104: bigint, HCC106: bigint, HCC107: bigint, HCC108: bigint, HCC110: bigint, HCC111: bigint, HCC112: bigint, HCC114: bigint, HCC115: bigint, HCC122: bigint, HCC124: bigint, HCC134: bigint, HCC135: bigint, HCC136: bigint, HCC137: bigint, HCC138: bigint, HCC157: bigint, HCC158: bigint, HCC159: bigint, HCC161: bigint, HCC162: bigint, HCC166: bigint, HCC167: bigint, HCC169: bigint, HCC170: bigint, HCC173: bigint, HCC176: bigint, HCC186: bigint, HCC188: bigint, HCC189: bigint]"
            ]
          },
          "metadata": {
            "tags": []
          },
          "execution_count": 10
        }
      ]
    },
    {
      "cell_type": "markdown",
      "metadata": {
        "id": "vDt22u4n0kRu"
      },
      "source": [
        "-- END OF CC-OVERRIDE with single row for each person ID for for each year and version"
      ]
    },
    {
      "cell_type": "markdown",
      "metadata": {
        "id": "K7Vfc1PKRMvp"
      },
      "source": [
        "HCC HIERARCHY STARTS HERE"
      ]
    },
    {
      "cell_type": "code",
      "metadata": {
        "id": "V4KdyeMl7Tmg"
      },
      "source": [
        "data = pd.read_excel('/content/HCC Hierarchy.xlsx')   #Loading Files\n",
        "data1 = spark.createDataFrame(data) \n",
        "data_2020_test = data.loc[(data['MODEL YR'] == int(Choose_a_model_year)) & (data['MODEL VRSN'] == Choose_a_model_version)]\n",
        "merged_cc_2020_test = df_CCmerged\n",
        "for i in range(len(data_2020_test)):\n",
        "  # merged_cc_2020_spark1 = 0\n",
        "  # if list(data_2020_test['HIGHER HCC'])[i] in merged_cc_2020_test.columns:\n",
        "  merged_cc_2020_test11 = merged_cc_2020_test.withColumn(list(data_2020_test['LOWER HCC'])[i], F.when((F.col(list(data_2020_test['HIGHER HCC'])[i])==1) & (F.col(list(data_2020_test['LOWER HCC'])[i])== 1) & (F.col('VERSION')== list(data_2020_test['MODEL VRSN'])[i]) ,0).otherwise(F.col(list(data_2020_test['LOWER HCC'])[i])))\n"
      ],
      "execution_count": null,
      "outputs": []
    },
    {
      "cell_type": "code",
      "metadata": {
        "id": "q4CbmY5tEeQn"
      },
      "source": [
        "# merged_cc_2020_spark1.show(5)"
      ],
      "execution_count": null,
      "outputs": []
    },
    {
      "cell_type": "code",
      "metadata": {
        "id": "uDsf2_1K9x-a"
      },
      "source": [
        "result= merged_cc_2020_test11"
      ],
      "execution_count": null,
      "outputs": []
    },
    {
      "cell_type": "code",
      "metadata": {
        "id": "cOCGNvREwAvc"
      },
      "source": [
        "# data = pd.read_excel('/HCC Hierarchy.xlsx')   #Loading Files\n",
        "# data1 = spark.createDataFrame(data)                                       #Making Spark Dataframe\n",
        "# data1.show()                                                              #Making Spark Dataframe\n",
        "# merged_cc = df_CCmerged #Loading File Created by HCC Hierarchy Team\n",
        "\n",
        "# versions = data['MODEL VRSN'].unique()                                    #Taking unique values to iterate later\n",
        "# years = data['MODEL YR'].unique() \n",
        "\n",
        "# data_2020_test = data[(data['MODEL YR'] == Choose_a_model_year) & (data['MODEL VRSN'] == versions[l])]\n",
        "# merged_cc_2020_test = merged_cc[(merged_cc['MODEL YEAR'] == Choose_a_model_year) & (merged_cc['Version'] == versions[l]) ]\n",
        "\n",
        "# merged_cc_2020_spark_test = spark.createDataFrame(merged_cc_2020_test)\n",
        "\n",
        "# for i in range(len(data_2020_test)):\n",
        "#     merged_cc_2020_spark_test = merged_cc_2020_spark_test.withColumn(list(data_2020_test['LOWER HCC'])[i], F.when((F.col(list(data_2020_test['HIGHER HCC'])[i])==1) & (F.col(list(data_2020_test['LOWER HCC'])[i])== 1) & (F.col('VERSION')== list(data_2020_test['MODEL VRSN'])[i]) ,0).otherwise(F.col(list(data_2020_test['LOWER HCC'])[i])))\n",
        "  \n",
        "# result = merged_cc_2020_spark_test"
      ],
      "execution_count": null,
      "outputs": []
    },
    {
      "cell_type": "code",
      "metadata": {
        "id": "iDM54wsb0o__"
      },
      "source": [
        "# data = pd.read_excel('/HCC Hierarchy.xlsx')   #Loading Files\n",
        "# data1 = spark.createDataFrame(data)                                       #Making Spark Dataframe\n",
        "# data1.show()                                                              #Making Spark Dataframe\n",
        "# merged_cc = df_CCmerged #Loading File Created by HCC Hierarchy Team\n",
        "\n",
        "# versions = data['MODEL VRSN'].unique()                                    #Taking unique values to iterate later\n",
        "# years = data['MODEL YR'].unique()                                         #Taking unique values to iterate later\n",
        "\n",
        "# from pyspark.sql import functions as F\n",
        "\n",
        "\n",
        "# #Section to create hierarchy table for all unique years and version being passed from above. This ensure it to be dynamic.\n",
        "# lis = {}\n",
        "# # for k in range(len(years)):\n",
        "# for l in range(len(versions)):\n",
        "#   var = str(years[k]) + '_' +  str(versions[l])\n",
        "#   lis[var] = []\n",
        "#   data_2020_test = data[(data['MODEL YR'] == Choose_a_model_year) & (data['MODEL VRSN'] == versions[l])]\n",
        "#   merged_cc_2020_test = merged_cc[(merged_cc['MODEL YEAR'] == Choose_a_model_year) & (merged_cc['Version'] == versions[l]) ]\n",
        "#   merged_cc_2020_spark_test = spark.createDataFrame(merged_cc_2020_test)\n",
        "#   for i in range(len(data_2020_test)):\n",
        "#     merged_cc_2020_spark1 = 0\n",
        "#     if list(data_2020_test['HIGHER HCC'])[i] in merged_cc_2020_spark_test.columns:\n",
        "#       merged_cc_2020_spark1 = merged_cc_2020_spark_test.withColumn(list(data_2020_test['LOWER HCC'])[i], F.when((F.col(list(data_2020_test['HIGHER HCC'])[i])==1) & (F.col(list(data_2020_test['LOWER HCC'])[i])== 1) & (F.col('VERSION')== list(data_2020_test['MODEL VRSN'])[i]) ,0).otherwise(F.col(list(data_2020_test['LOWER HCC'])[i])))\n",
        "#       # print(i)\n",
        "#   lis[var].append(merged_cc_2020_spark1)\n",
        "\n",
        "\n",
        "\n",
        "# # Creating seperate files for different years and versions and saving excel files.\n",
        "# mer_frames = []\n",
        "# for i in lis.keys():\n",
        "#   print(i)\n",
        "#   if lis[i][0]!=0:  \n",
        "#     frame = lis[i][0]\n",
        "#     frame = frame.toPandas()\n",
        "#     mer_frames.append(frame)\n",
        "#     frame.to_excel('/content/gdrive/My Drive/' + str(i) + '.xlsx')\n",
        "# result = pd.concat(mer_frames)\n",
        "\n",
        "# #Savin\n",
        "# result.to_excel('/content/gdrive/My Drive/Merged_file_for_Akarshika_updated.xlsx')"
      ],
      "execution_count": null,
      "outputs": []
    },
    {
      "cell_type": "markdown",
      "metadata": {
        "id": "EYfXxAYuYFw5"
      },
      "source": [
        "END OF HCC HIERARCHY\n",
        "\n"
      ]
    },
    {
      "cell_type": "markdown",
      "metadata": {
        "id": "Ww_4SKdl9h7-"
      },
      "source": [
        "Interaction Variable Calculation\n",
        "\n"
      ]
    },
    {
      "cell_type": "code",
      "metadata": {
        "id": "E-VtUhgxRxfq"
      },
      "source": [
        " #loading libraries\n",
        "import pandas as pd\n",
        "import os\n",
        "import pyspark.sql.functions as func"
      ],
      "execution_count": null,
      "outputs": []
    },
    {
      "cell_type": "code",
      "metadata": {
        "id": "RF6JxSlh9o0Y"
      },
      "source": [
        "from pyspark.sql.functions import datediff, to_date, lit\n",
        "from pyspark.sql.functions import col, expr, when\n",
        "import pyspark.sql.functions as F\n",
        "from pyspark.sql.types import *\n",
        "\n",
        "#result= pd.read_csv('/content/Merged_file_for_HCC_updated.csv')\n",
        "\n",
        "data_interaction = result\n",
        "\n",
        "interaction_demo = pd.read_excel(\"/content/Interaction Variable Calculations.xlsx\")\n",
        "interaction_demo= spark.createDataFrame(interaction_demo)\n",
        "\n",
        "interaction_demo = interaction_demo.filter((interaction_demo['MODEL VRSN'] == Choose_a_model_version) & (interaction_demo['MODEL YR'] == Choose_a_model_year))\n",
        "data_interaction = data_interaction.where(F.col('MODEL YEAR') == Choose_a_model_year)\n",
        "data_interaction = data_interaction.withColumn(\"Version\", lit(str(Choose_a_model_version)))\n",
        "\n",
        "for i in interaction_demo.collect():\n",
        "  if i[2] in result.columns:\n",
        "      data_interaction = data_interaction.withColumn(i[2], expr(i[3]))\n",
        "\n",
        "# data_interaction.show(5)\n",
        "# data_interaction.toPandas().to_excel('Interaction_Variable_Calculation.xlsx') \n"
      ],
      "execution_count": null,
      "outputs": []
    },
    {
      "cell_type": "code",
      "metadata": {
        "id": "KYWGNhv9IIdH"
      },
      "source": [
        "# data_interaction.toPandas().to_excel('Interaction_Variable_Calculation.xlsx') "
      ],
      "execution_count": null,
      "outputs": []
    },
    {
      "cell_type": "markdown",
      "metadata": {
        "id": "tSwQ5TUyHa4b"
      },
      "source": [
        "End of Interaction Variable Calculation"
      ]
    },
    {
      "cell_type": "markdown",
      "metadata": {
        "id": "30sU0SGeOysQ"
      },
      "source": [
        "Score Calculation\n"
      ]
    },
    {
      "cell_type": "code",
      "metadata": {
        "id": "NGmryPaFHgnn"
      },
      "source": [
        "import pandas as pd\n",
        "import numpy as np"
      ],
      "execution_count": null,
      "outputs": []
    },
    {
      "cell_type": "code",
      "metadata": {
        "id": "8GJVW6RQNjFB"
      },
      "source": [
        "columns_to_drop = ['DOB', 'SEX', 'OREC', 'LTIMCAID', 'NEMCAID', 'ESRD', 'MCAID', 'AGEF', 'HCC']\n",
        "data_interaction = data_interaction.drop(*columns_to_drop)"
      ],
      "execution_count": null,
      "outputs": []
    },
    {
      "cell_type": "code",
      "metadata": {
        "id": "7cgHx_CcNj4p",
        "colab": {
          "base_uri": "https://localhost:8080/"
        },
        "outputId": "3daa7205-7af5-4e32-f2b6-0563db7c1fb1"
      },
      "source": [
        "dfColumnNames = data_interaction.schema.names\n",
        "print(dfColumnNames)"
      ],
      "execution_count": null,
      "outputs": [
        {
          "output_type": "stream",
          "text": [
            "['PERSON ID', 'DISABL', 'F0_34', 'F35_44', 'F45_54', 'F55_59', 'F60_64', 'F65_69', 'F70_74', 'F75_79', 'F80_84', 'F85_89', 'F90_94', 'F95_GT', 'LTIMCAID_O', 'M0_34', 'M35_44', 'M45_54', 'M55_59', 'M60_64', 'M65_69', 'M70_74', 'M75_79', 'M80_84', 'M85_89', 'M90_94', 'M95_GT', 'MCAID_NORIGDIS  ', 'MCAID_ORIGDIS   ', 'NE_ORIGDS', 'NEF0_34', 'NEF35_44', 'NEF45_54', 'NEF55_59', 'NEF60_64', 'NEF65', 'NEF66', 'NEF67', 'NEF68', 'NEF69', 'NEF70_74', 'NEF75_79', 'NEF80_84', 'NEF85_89', 'NEF90_94', 'NEF95_GT', 'NEM0_34', 'NEM35_44', 'NEM45_54', 'NEM55_59', 'NEM60_64', 'NEM65', 'NEM66', 'NEM67', 'NEM68', 'NEM69', 'NEM70_74', 'NEM75_79', 'NEM80_84', 'NEM85_89', 'NEM90_94', 'NEM95_GT', 'NMCAID_NORIGDIS ', 'NMCAID_ORIGDIS  ', 'ORIGDS', 'DIAG', 'MODEL YEAR', 'Version', 'HCC1', 'HCC2', 'HCC6', 'HCC8', 'HCC9', 'HCC10', 'HCC11', 'HCC12', 'HCC17', 'HCC18', 'HCC19', 'HCC21', 'HCC22', 'HCC23', 'HCC27', 'HCC28', 'HCC29', 'HCC33', 'HCC34', 'HCC35', 'HCC39', 'HCC40', 'HCC46', 'HCC47', 'HCC48', 'HCC51', 'HCC52', 'HCC54', 'HCC55', 'HCC56', 'HCC57', 'HCC58', 'HCC59', 'HCC60', 'HCC70', 'HCC71', 'HCC72', 'HCC73', 'HCC74', 'HCC75', 'HCC76', 'HCC77', 'HCC78', 'HCC79', 'HCC80', 'HCC82', 'HCC83', 'HCC84', 'HCC85', 'HCC86', 'HCC87', 'HCC88', 'HCC96', 'HCC99', 'HCC100', 'HCC103', 'HCC104', 'HCC106', 'HCC107', 'HCC108', 'HCC110', 'HCC111', 'HCC112', 'HCC114', 'HCC115', 'HCC122', 'HCC124', 'HCC134', 'HCC135', 'HCC136', 'HCC137', 'HCC138', 'HCC157', 'HCC158', 'HCC159', 'HCC161', 'HCC162', 'HCC166', 'HCC167', 'HCC169', 'HCC170', 'HCC173', 'HCC176', 'HCC186', 'HCC188', 'HCC189']\n"
          ],
          "name": "stdout"
        }
      ]
    },
    {
      "cell_type": "code",
      "metadata": {
        "id": "CvSeyDSh8A58"
      },
      "source": [
        "data_interaction = data_interaction.select('DIAG', 'MODEL YEAR', 'Version', 'PERSON ID','DISABL','F0_34', 'F35_44', 'F45_54', 'F55_59', 'F60_64', 'F65_69', 'F70_74', 'F75_79', 'F80_84', 'F85_89', 'F90_94', 'F95_GT', 'LTIMCAID_O', 'M0_34', 'M35_44', 'M45_54', 'M55_59', 'M60_64', 'M65_69', 'M70_74', 'M75_79', 'M80_84', 'M85_89', 'M90_94', 'M95_GT', 'MCAID_NORIGDIS  ', 'MCAID_ORIGDIS   ', 'NE_ORIGDS', 'NEF0_34', 'NEF35_44', 'NEF45_54', 'NEF55_59', 'NEF60_64', 'NEF65', 'NEF66', 'NEF67', 'NEF68', 'NEF69', 'NEF70_74', 'NEF75_79', 'NEF80_84', 'NEF85_89', 'NEF90_94', 'NEF95_GT', 'NEM0_34', 'NEM35_44', 'NEM45_54', 'NEM55_59', 'NEM60_64', 'NEM65', 'NEM66', 'NEM67', 'NEM68', 'NEM69', 'NEM70_74', 'NEM75_79', 'NEM80_84', 'NEM85_89', 'NEM90_94', 'NEM95_GT', 'NMCAID_NORIGDIS ', 'NMCAID_ORIGDIS  ', 'ORIGDS', 'HCC1', 'HCC2', 'HCC6', 'HCC8', 'HCC9', 'HCC10', 'HCC11', 'HCC12', 'HCC17', 'HCC18', 'HCC19', 'HCC21', 'HCC22', 'HCC23', 'HCC27', 'HCC28', 'HCC29', 'HCC33', 'HCC34', 'HCC35', 'HCC39', 'HCC40', 'HCC46', 'HCC47', 'HCC48', 'HCC51', 'HCC52', 'HCC54', 'HCC55', 'HCC56', 'HCC57', 'HCC58', 'HCC59', 'HCC60', 'HCC70', 'HCC71', 'HCC72', 'HCC73', 'HCC74', 'HCC75', 'HCC76', 'HCC77', 'HCC78', 'HCC79', 'HCC80', 'HCC82', 'HCC83', 'HCC84', 'HCC85', 'HCC86', 'HCC87', 'HCC88', 'HCC96', 'HCC99', 'HCC100', 'HCC103', 'HCC104', 'HCC106', 'HCC107', 'HCC108', 'HCC110', 'HCC111', 'HCC112', 'HCC114', 'HCC115', 'HCC122', 'HCC124', 'HCC134', 'HCC135', 'HCC136', 'HCC137', 'HCC138', 'HCC157', 'HCC158', 'HCC159', 'HCC161', 'HCC162', 'HCC166', 'HCC167', 'HCC169', 'HCC170', 'HCC173', 'HCC176', 'HCC186', 'HCC188', 'HCC189')"
      ],
      "execution_count": null,
      "outputs": []
    },
    {
      "cell_type": "code",
      "metadata": {
        "id": "y2wymbwt8Dmx",
        "colab": {
          "base_uri": "https://localhost:8080/"
        },
        "outputId": "665bba5e-1c69-4cdf-dc4d-0eaa2df27265"
      },
      "source": [
        "dfColumnNames = data_interaction.schema.names\n",
        "print(dfColumnNames)"
      ],
      "execution_count": null,
      "outputs": [
        {
          "output_type": "stream",
          "text": [
            "['DIAG', 'MODEL YEAR', 'Version', 'PERSON ID', 'DISABL', 'F0_34', 'F35_44', 'F45_54', 'F55_59', 'F60_64', 'F65_69', 'F70_74', 'F75_79', 'F80_84', 'F85_89', 'F90_94', 'F95_GT', 'LTIMCAID_O', 'M0_34', 'M35_44', 'M45_54', 'M55_59', 'M60_64', 'M65_69', 'M70_74', 'M75_79', 'M80_84', 'M85_89', 'M90_94', 'M95_GT', 'MCAID_NORIGDIS  ', 'MCAID_ORIGDIS   ', 'NE_ORIGDS', 'NEF0_34', 'NEF35_44', 'NEF45_54', 'NEF55_59', 'NEF60_64', 'NEF65', 'NEF66', 'NEF67', 'NEF68', 'NEF69', 'NEF70_74', 'NEF75_79', 'NEF80_84', 'NEF85_89', 'NEF90_94', 'NEF95_GT', 'NEM0_34', 'NEM35_44', 'NEM45_54', 'NEM55_59', 'NEM60_64', 'NEM65', 'NEM66', 'NEM67', 'NEM68', 'NEM69', 'NEM70_74', 'NEM75_79', 'NEM80_84', 'NEM85_89', 'NEM90_94', 'NEM95_GT', 'NMCAID_NORIGDIS ', 'NMCAID_ORIGDIS  ', 'ORIGDS', 'HCC1', 'HCC2', 'HCC6', 'HCC8', 'HCC9', 'HCC10', 'HCC11', 'HCC12', 'HCC17', 'HCC18', 'HCC19', 'HCC21', 'HCC22', 'HCC23', 'HCC27', 'HCC28', 'HCC29', 'HCC33', 'HCC34', 'HCC35', 'HCC39', 'HCC40', 'HCC46', 'HCC47', 'HCC48', 'HCC51', 'HCC52', 'HCC54', 'HCC55', 'HCC56', 'HCC57', 'HCC58', 'HCC59', 'HCC60', 'HCC70', 'HCC71', 'HCC72', 'HCC73', 'HCC74', 'HCC75', 'HCC76', 'HCC77', 'HCC78', 'HCC79', 'HCC80', 'HCC82', 'HCC83', 'HCC84', 'HCC85', 'HCC86', 'HCC87', 'HCC88', 'HCC96', 'HCC99', 'HCC100', 'HCC103', 'HCC104', 'HCC106', 'HCC107', 'HCC108', 'HCC110', 'HCC111', 'HCC112', 'HCC114', 'HCC115', 'HCC122', 'HCC124', 'HCC134', 'HCC135', 'HCC136', 'HCC137', 'HCC138', 'HCC157', 'HCC158', 'HCC159', 'HCC161', 'HCC162', 'HCC166', 'HCC167', 'HCC169', 'HCC170', 'HCC173', 'HCC176', 'HCC186', 'HCC188', 'HCC189']\n"
          ],
          "name": "stdout"
        }
      ]
    },
    {
      "cell_type": "code",
      "metadata": {
        "id": "Lblc0ZaDQ5dg"
      },
      "source": [
        "data_interaction_sampled= data_interaction.limit(100000)"
      ],
      "execution_count": null,
      "outputs": []
    },
    {
      "cell_type": "code",
      "metadata": {
        "id": "qkgNcDR8RD9-"
      },
      "source": [
        "data_interaction_sampled.toPandas().to_csv('Data Interaction Sampled.csv')"
      ],
      "execution_count": null,
      "outputs": []
    },
    {
      "cell_type": "code",
      "metadata": {
        "id": "_w28gR89NkCI"
      },
      "source": [
        "# Fetch score sheet\n",
        "scoreSheetPath = '/content/Score Variables.xlsx'   #Path to access the score variables from drive\n",
        "scoreSheetDF = pd.read_excel(scoreSheetPath)\n",
        "del scoreSheetDF['Unnamed: 5'],scoreSheetDF['Unnamed: 6'],scoreSheetDF['Unnamed: 7'],scoreSheetDF['Unnamed: 8'],scoreSheetDF['Unnamed: 9'],scoreSheetDF['Unnamed: 10'],scoreSheetDF['Unnamed: 11'],scoreSheetDF['Unnamed: 12']\n",
        "# scoreSheetDF = spark.createDataFrame(scoreSheetDF)"
      ],
      "execution_count": null,
      "outputs": []
    },
    {
      "cell_type": "code",
      "metadata": {
        "colab": {
          "base_uri": "https://localhost:8080/"
        },
        "id": "KvB3Yn7Zf6p6",
        "outputId": "87023fdc-96c4-4119-bae5-21ffc75a5755"
      },
      "source": [
        "scoreSheetDF= scoreSheetDF.loc[(scoreSheetDF['Model Year'] == int(Choose_a_model_year)) & (scoreSheetDF['Model Version'] == Choose_a_model_version)]\n",
        "scoreSheetDF['Score Type'].unique()"
      ],
      "execution_count": null,
      "outputs": [
        {
          "output_type": "execute_result",
          "data": {
            "text/plain": [
              "array(['CFA', 'CFD', 'CNA', 'CND', 'CPA', 'CPD', 'INS', 'NE', 'SNPNE'],\n",
              "      dtype=object)"
            ]
          },
          "metadata": {
            "tags": []
          },
          "execution_count": 25
        }
      ]
    },
    {
      "cell_type": "code",
      "metadata": {
        "id": "Zq9QCSlYicIM"
      },
      "source": [
        "# scoreSheetDF_1 =  scoreSheetDF.filter((scoreSheetDF['Model Year']==Choose_a_model_year) & (scoreSheetDF['Model Version'] == Choose_a_model_version))"
      ],
      "execution_count": null,
      "outputs": []
    },
    {
      "cell_type": "code",
      "metadata": {
        "id": "MV3emdiWrPgr"
      },
      "source": [
        "# scoreSheetDF.loc[scoreSheetDF['Model Year']==2020]"
      ],
      "execution_count": null,
      "outputs": []
    },
    {
      "cell_type": "code",
      "metadata": {
        "id": "yQcdMt1vlTeZ"
      },
      "source": [
        "scoreSheetDF= scoreSheetDF.loc[(scoreSheetDF['Model Year'] == int(Choose_a_model_year)) & (scoreSheetDF['Model Version'] == Choose_a_model_version) & (scoreSheetDF['Score Type']== 'NE')]\n",
        "# scoreSheetDF.head(5)\n",
        "if len(scoreSheetDF)>1:\n",
        "  visited = []\n",
        "  for i in range(len(list(scoreSheetDF['Variable']))):\n",
        "    if list(scoreSheetDF['Variable'])[i] in data_interaction.columns and list(scoreSheetDF['Variable'])[i] not in visited :  \n",
        "      data_interaction = data_interaction.withColumn(list(scoreSheetDF['Variable'])[i], F.when((F.col(list(scoreSheetDF['Variable'])[i])==1),(list(scoreSheetDF['Coefficient Value'])[i])).otherwise(0))\n",
        "      visited.append(list(scoreSheetDF['Variable'])[i])\n",
        "\n",
        "      data_interaction = data_interaction.withColumn('total_1', sum(data_interaction[column] for column in data_interaction.columns[4:100]))\n",
        "      data_interaction = data_interaction.withColumn('total_2', sum(data_interaction[column] for column in data_interaction.columns[100:]))\n",
        "      data_interaction= data_interaction.withColumn('total_'+str('NE'), col(\"total_1\")+col(\"total_2\"))\n",
        "\n",
        "      cols_to_drop= data_interaction.columns[4:-1]\n",
        "      for i in cols_to_drop:\n",
        "        data_interaction= data_interaction.drop(col(i))\n",
        "      data_interaction= data_interaction.drop(col('DIAG'))\n",
        "\n",
        "# data_interaction.show(5)\n",
        "  data_interaction.toPandas().to_excel('SCORES_'+str('NE')+'.xlsx')\n"
      ],
      "execution_count": null,
      "outputs": []
    },
    {
      "cell_type": "code",
      "metadata": {
        "id": "98gR90mtpvDt"
      },
      "source": [
        "f1 = pandas.read_excel(\"SCORES_CFA.xlsx\")\n",
        "f2 = pandas.read_excel(\"SCORES_CFD.xlsx\")\n",
        "f3 = pandas.read_excel(\"SCORES_CNA.xlsx\")\n",
        "f4 = pandas.read_excel(\"SCORES_CND.xlsx\")\n",
        "f5 = pandas.read_excel(\"SCORES_CPA.xlsx\")\n",
        "f6 = pandas.read_excel(\"SCORES_CPD.xlsx\")\n",
        "f7 = pandas.read_excel(\"SCORES_INS.xlsx\")\n",
        "# merging the files\n",
        "# creating a new file\n"
      ],
      "execution_count": null,
      "outputs": []
    },
    {
      "cell_type": "code",
      "metadata": {
        "colab": {
          "base_uri": "https://localhost:8080/",
          "height": 204
        },
        "id": "0_sSLi-GtF_l",
        "outputId": "1416c2d4-dade-409d-9882-8efe8459ef58"
      },
      "source": [
        "final = f1[[\"MODEL YEAR\", \n",
        "         \"Version\",\"PERSON ID\",\"total_CFA\"]].merge(f2,on = \"PERSON ID\",how = \"left\").drop(columns=['Unnamed: 0','MODEL YEAR_y','Version_x','Version_y'])\n",
        " \n",
        "# final= final.merge(f3, on = \"PERSON ID\", how= \"outer\").drop(columns=['Unnamed: 0','MODEL YEAR','Version'])\n",
        "# final= final.merge(f4, on= \"PERSON ID\", how= \"outer\").drop(columns=['Unnamed: 0','MODEL YEAR','Version'])\n",
        "# final= final.merge(f5, on= \"PERSON ID\", how= \"outer\").drop(columns=['Unnamed: 0','MODEL YEAR','Version'])\n",
        "# final= final.merge(f6, on= \"PERSON ID\", how= \"outer\").drop(columns=['Unnamed: 0','MODEL YEAR','Version'])\n",
        "# final= final.merge(f7,on= \"PERSON ID\", how= \"outer\").drop(columns=['Unnamed: 0','MODEL YEAR','Version'])\n",
        "# final['Version']= 'V24'\n",
        "# first_column = final.pop('Version')\n",
        "# final.insert(0, 'Version', first_column)\n",
        "final.head(5)                                                   \n",
        "# .merge(f3[[\"total_CNA\"]].merge(f4[[\"total_CND\"]].merge(f5[[\"total_CPA\"]].merge(f6[[\"total_CPD\"]].merge(f7[[\"total_INS\"]], \n",
        "                                    #  on = \"PERSON ID\", \n",
        "                                    #  how = \"left\"))))))"
      ],
      "execution_count": null,
      "outputs": [
        {
          "output_type": "execute_result",
          "data": {
            "text/html": [
              "<div>\n",
              "<style scoped>\n",
              "    .dataframe tbody tr th:only-of-type {\n",
              "        vertical-align: middle;\n",
              "    }\n",
              "\n",
              "    .dataframe tbody tr th {\n",
              "        vertical-align: top;\n",
              "    }\n",
              "\n",
              "    .dataframe thead th {\n",
              "        text-align: right;\n",
              "    }\n",
              "</style>\n",
              "<table border=\"1\" class=\"dataframe\">\n",
              "  <thead>\n",
              "    <tr style=\"text-align: right;\">\n",
              "      <th></th>\n",
              "      <th>MODEL YEAR_x</th>\n",
              "      <th>PERSON ID</th>\n",
              "      <th>total_CFA</th>\n",
              "      <th>total_CFD</th>\n",
              "    </tr>\n",
              "  </thead>\n",
              "  <tbody>\n",
              "    <tr>\n",
              "      <th>0</th>\n",
              "      <td>2020</td>\n",
              "      <td>474</td>\n",
              "      <td>6.316</td>\n",
              "      <td>7.512</td>\n",
              "    </tr>\n",
              "    <tr>\n",
              "      <th>1</th>\n",
              "      <td>2020</td>\n",
              "      <td>964</td>\n",
              "      <td>5.520</td>\n",
              "      <td>6.377</td>\n",
              "    </tr>\n",
              "    <tr>\n",
              "      <th>2</th>\n",
              "      <td>2020</td>\n",
              "      <td>1677</td>\n",
              "      <td>6.154</td>\n",
              "      <td>7.364</td>\n",
              "    </tr>\n",
              "    <tr>\n",
              "      <th>3</th>\n",
              "      <td>2020</td>\n",
              "      <td>1697</td>\n",
              "      <td>4.988</td>\n",
              "      <td>6.000</td>\n",
              "    </tr>\n",
              "    <tr>\n",
              "      <th>4</th>\n",
              "      <td>2020</td>\n",
              "      <td>1806</td>\n",
              "      <td>6.988</td>\n",
              "      <td>8.000</td>\n",
              "    </tr>\n",
              "  </tbody>\n",
              "</table>\n",
              "</div>"
            ],
            "text/plain": [
              "   MODEL YEAR_x  PERSON ID  total_CFA  total_CFD\n",
              "0          2020        474      6.316      7.512\n",
              "1          2020        964      5.520      6.377\n",
              "2          2020       1677      6.154      7.364\n",
              "3          2020       1697      4.988      6.000\n",
              "4          2020       1806      6.988      8.000"
            ]
          },
          "metadata": {
            "tags": []
          },
          "execution_count": 38
        }
      ]
    },
    {
      "cell_type": "code",
      "metadata": {
        "colab": {
          "base_uri": "https://localhost:8080/"
        },
        "id": "0m637-CkVXQv",
        "outputId": "0d7256e5-a515-42d6-8002-7729f6a8b43a"
      },
      "source": [
        "final['PERSON ID'].nunique()"
      ],
      "execution_count": null,
      "outputs": [
        {
          "output_type": "execute_result",
          "data": {
            "text/plain": [
              "950000"
            ]
          },
          "metadata": {
            "tags": []
          },
          "execution_count": 41
        }
      ]
    },
    {
      "cell_type": "code",
      "metadata": {
        "colab": {
          "base_uri": "https://localhost:8080/",
          "height": 419
        },
        "id": "ZXJiXNCfZYSo",
        "outputId": "ae8568a2-12d1-4a27-96a6-b30919b2f056"
      },
      "source": [
        "final_sampled"
      ],
      "execution_count": null,
      "outputs": [
        {
          "output_type": "execute_result",
          "data": {
            "text/html": [
              "<div>\n",
              "<style scoped>\n",
              "    .dataframe tbody tr th:only-of-type {\n",
              "        vertical-align: middle;\n",
              "    }\n",
              "\n",
              "    .dataframe tbody tr th {\n",
              "        vertical-align: top;\n",
              "    }\n",
              "\n",
              "    .dataframe thead th {\n",
              "        text-align: right;\n",
              "    }\n",
              "</style>\n",
              "<table border=\"1\" class=\"dataframe\">\n",
              "  <thead>\n",
              "    <tr style=\"text-align: right;\">\n",
              "      <th></th>\n",
              "      <th>Version</th>\n",
              "      <th>MODEL YEAR_x</th>\n",
              "      <th>PERSON ID</th>\n",
              "      <th>total_CFA</th>\n",
              "      <th>total_CFD</th>\n",
              "      <th>total_CNA</th>\n",
              "      <th>total_CND</th>\n",
              "      <th>total_CPA</th>\n",
              "      <th>total_CPD</th>\n",
              "      <th>total_INS</th>\n",
              "    </tr>\n",
              "  </thead>\n",
              "  <tbody>\n",
              "    <tr>\n",
              "      <th>0</th>\n",
              "      <td>V24</td>\n",
              "      <td>2020</td>\n",
              "      <td>474</td>\n",
              "      <td>6.316</td>\n",
              "      <td>7.512</td>\n",
              "      <td>5.996</td>\n",
              "      <td>7.326</td>\n",
              "      <td>6.014</td>\n",
              "      <td>7.334</td>\n",
              "      <td>7.412</td>\n",
              "    </tr>\n",
              "    <tr>\n",
              "      <th>1</th>\n",
              "      <td>V24</td>\n",
              "      <td>2020</td>\n",
              "      <td>964</td>\n",
              "      <td>5.520</td>\n",
              "      <td>6.377</td>\n",
              "      <td>5.097</td>\n",
              "      <td>6.369</td>\n",
              "      <td>5.252</td>\n",
              "      <td>6.336</td>\n",
              "      <td>6.865</td>\n",
              "    </tr>\n",
              "    <tr>\n",
              "      <th>2</th>\n",
              "      <td>V24</td>\n",
              "      <td>2020</td>\n",
              "      <td>1677</td>\n",
              "      <td>6.154</td>\n",
              "      <td>7.364</td>\n",
              "      <td>5.574</td>\n",
              "      <td>6.756</td>\n",
              "      <td>5.698</td>\n",
              "      <td>6.870</td>\n",
              "      <td>7.102</td>\n",
              "    </tr>\n",
              "    <tr>\n",
              "      <th>3</th>\n",
              "      <td>V24</td>\n",
              "      <td>2020</td>\n",
              "      <td>1697</td>\n",
              "      <td>4.988</td>\n",
              "      <td>6.000</td>\n",
              "      <td>4.616</td>\n",
              "      <td>6.000</td>\n",
              "      <td>4.740</td>\n",
              "      <td>6.000</td>\n",
              "      <td>6.576</td>\n",
              "    </tr>\n",
              "    <tr>\n",
              "      <th>4</th>\n",
              "      <td>V24</td>\n",
              "      <td>2020</td>\n",
              "      <td>1806</td>\n",
              "      <td>6.988</td>\n",
              "      <td>8.000</td>\n",
              "      <td>6.616</td>\n",
              "      <td>8.000</td>\n",
              "      <td>6.740</td>\n",
              "      <td>8.000</td>\n",
              "      <td>6.698</td>\n",
              "    </tr>\n",
              "    <tr>\n",
              "      <th>...</th>\n",
              "      <td>...</td>\n",
              "      <td>...</td>\n",
              "      <td>...</td>\n",
              "      <td>...</td>\n",
              "      <td>...</td>\n",
              "      <td>...</td>\n",
              "      <td>...</td>\n",
              "      <td>...</td>\n",
              "      <td>...</td>\n",
              "      <td>...</td>\n",
              "    </tr>\n",
              "    <tr>\n",
              "      <th>99995</th>\n",
              "      <td>V24</td>\n",
              "      <td>2020</td>\n",
              "      <td>260688</td>\n",
              "      <td>11.715</td>\n",
              "      <td>12.583</td>\n",
              "      <td>12.104</td>\n",
              "      <td>12.592</td>\n",
              "      <td>11.281</td>\n",
              "      <td>13.525</td>\n",
              "      <td>9.565</td>\n",
              "    </tr>\n",
              "    <tr>\n",
              "      <th>99996</th>\n",
              "      <td>V24</td>\n",
              "      <td>2020</td>\n",
              "      <td>260688</td>\n",
              "      <td>11.715</td>\n",
              "      <td>12.583</td>\n",
              "      <td>12.104</td>\n",
              "      <td>12.592</td>\n",
              "      <td>11.281</td>\n",
              "      <td>13.525</td>\n",
              "      <td>8.992</td>\n",
              "    </tr>\n",
              "    <tr>\n",
              "      <th>99997</th>\n",
              "      <td>V24</td>\n",
              "      <td>2020</td>\n",
              "      <td>260688</td>\n",
              "      <td>11.715</td>\n",
              "      <td>12.583</td>\n",
              "      <td>12.104</td>\n",
              "      <td>12.592</td>\n",
              "      <td>11.281</td>\n",
              "      <td>12.542</td>\n",
              "      <td>9.565</td>\n",
              "    </tr>\n",
              "    <tr>\n",
              "      <th>99998</th>\n",
              "      <td>V24</td>\n",
              "      <td>2020</td>\n",
              "      <td>260688</td>\n",
              "      <td>11.715</td>\n",
              "      <td>12.583</td>\n",
              "      <td>12.104</td>\n",
              "      <td>12.592</td>\n",
              "      <td>11.281</td>\n",
              "      <td>12.542</td>\n",
              "      <td>8.992</td>\n",
              "    </tr>\n",
              "    <tr>\n",
              "      <th>99999</th>\n",
              "      <td>V24</td>\n",
              "      <td>2020</td>\n",
              "      <td>260688</td>\n",
              "      <td>11.715</td>\n",
              "      <td>12.583</td>\n",
              "      <td>11.131</td>\n",
              "      <td>13.521</td>\n",
              "      <td>12.244</td>\n",
              "      <td>13.525</td>\n",
              "      <td>9.565</td>\n",
              "    </tr>\n",
              "  </tbody>\n",
              "</table>\n",
              "<p>100000 rows × 10 columns</p>\n",
              "</div>"
            ],
            "text/plain": [
              "      Version  MODEL YEAR_x  PERSON ID  ...  total_CPA  total_CPD  total_INS\n",
              "0         V24          2020        474  ...      6.014      7.334      7.412\n",
              "1         V24          2020        964  ...      5.252      6.336      6.865\n",
              "2         V24          2020       1677  ...      5.698      6.870      7.102\n",
              "3         V24          2020       1697  ...      4.740      6.000      6.576\n",
              "4         V24          2020       1806  ...      6.740      8.000      6.698\n",
              "...       ...           ...        ...  ...        ...        ...        ...\n",
              "99995     V24          2020     260688  ...     11.281     13.525      9.565\n",
              "99996     V24          2020     260688  ...     11.281     13.525      8.992\n",
              "99997     V24          2020     260688  ...     11.281     12.542      9.565\n",
              "99998     V24          2020     260688  ...     11.281     12.542      8.992\n",
              "99999     V24          2020     260688  ...     12.244     13.525      9.565\n",
              "\n",
              "[100000 rows x 10 columns]"
            ]
          },
          "metadata": {
            "tags": []
          },
          "execution_count": 35
        }
      ]
    },
    {
      "cell_type": "code",
      "metadata": {
        "id": "bqPJmvb2sZcS"
      },
      "source": [
        "final_sampled.to_csv(\"Results_sampled.csv\", index = False)"
      ],
      "execution_count": null,
      "outputs": []
    },
    {
      "cell_type": "code",
      "metadata": {
        "id": "oLRZ2cbUOl3S"
      },
      "source": [
        ""
      ],
      "execution_count": null,
      "outputs": []
    }
  ]
}